{
 "cells": [
  {
   "cell_type": "markdown",
   "metadata": {},
   "source": [
    "# ODP Data Analysis\n",
    "\n",
    "This notebook analyze the data from https://www.europeandataportal.eu/. The dump of the portal was done in February 2018 and contains 804,982 datasets. To bootstrap the repository you will need to download the dataset from public HOBBIT FTP server (13G unpacked):\n",
    "```\n",
    "make get-data\n",
    "```\n",
    "After that, we will filter out German datasets."
   ]
  },
  {
   "cell_type": "code",
   "execution_count": 1,
   "metadata": {},
   "outputs": [],
   "source": [
    "# necessary imports\n",
    "import pandas as pd\n",
    "import json\n",
    "import numpy as np\n",
    "import copy\n",
    "\n",
    "pd.options.display.max_rows = 4000\n",
    "pd.options.display.max_columns = 4000"
   ]
  },
  {
   "cell_type": "code",
   "execution_count": 9,
   "metadata": {},
   "outputs": [
    {
     "name": "stdout",
     "output_type": "stream",
     "text": [
      "[{'label': 'en'}]\n",
      "access_rights                                                     717\n",
      "accrual_periodicity                                               537\n",
      "author                                                           1000\n",
      "author_email                                                     1000\n",
      "conforms_to                                                       779\n",
      "contact_point                                                     410\n",
      "creator_user_id                                                     0\n",
      "dct_type                                                          405\n",
      "en                                                                995\n",
      "extras                                                              0\n",
      "groups                                                              0\n",
      "has_version                                                       717\n",
      "http://publications.europa.eu/resource/authority/language/DAN     997\n",
      "http://publications.europa.eu/resource/authority/language/DUT     962\n",
      "http://publications.europa.eu/resource/authority/language/ENG     995\n",
      "http://publications.europa.eu/resource/authority/language/FIN     971\n",
      "http://publications.europa.eu/resource/authority/language/GER     449\n",
      "http://publications.europa.eu/resource/authority/language/ICE     998\n",
      "http://publications.europa.eu/resource/authority/language/LAV     999\n",
      "http://publications.europa.eu/resource/authority/language/POL     985\n",
      "http://publications.europa.eu/resource/authority/language/POR     999\n",
      "http://publications.europa.eu/resource/authority/language/RUM     999\n",
      "http://publications.europa.eu/resource/authority/language/SPA     992\n",
      "http://publications.europa.eu/resource/authority/language/SWE     996\n",
      "id                                                                  0\n",
      "identifier                                                          0\n",
      "is_version_of                                                     717\n",
      "isopen                                                              0\n",
      "issued                                                            448\n",
      "language                                                          337\n",
      "license_id                                                        881\n",
      "license_title                                                     881\n",
      "license_url                                                       991\n",
      "maintainer                                                       1000\n",
      "maintainer_email                                                 1000\n",
      "metadata_created                                                    0\n",
      "metadata_modified                                                   0\n",
      "modified                                                          227\n",
      "name                                                                0\n",
      "notes                                                               0\n",
      "num_resources                                                       0\n",
      "num_tags                                                            0\n",
      "organization                                                        0\n",
      "original_source                                                   878\n",
      "other_identifier                                                  717\n",
      "owner_org                                                           0\n",
      "page                                                              452\n",
      "private                                                             0\n",
      "provenance                                                        341\n",
      "publisher                                                         590\n",
      "relation                                                          717\n",
      "relationships_as_object                                             0\n",
      "relationships_as_subject                                            0\n",
      "resources                                                           0\n",
      "revision_id                                                         0\n",
      "state                                                               0\n",
      "tags                                                                0\n",
      "temporal                                                          884\n",
      "title                                                               0\n",
      "translated                                                        243\n",
      "translation                                                         5\n",
      "translation_meta                                                    0\n",
      "type                                                                0\n",
      "url                                                               368\n",
      "version                                                          1000\n",
      "dtype: int64\n"
     ]
    }
   ],
   "source": [
    "data_file = \"data/europeandataportal.jsonl\"\n",
    "datasets_to_analyze = 1000\n",
    "\n",
    "# Find out by which string we can filter out German datasets\n",
    "# flatten out language field\n",
    "\n",
    "def flatten_lang(languages):\n",
    "    flat_languages = []\n",
    "    for lang in languages:\n",
    "        first_key = list(lang.keys())[0]\n",
    "        flat_languages.append(lang.get(first_key))\n",
    "    return flat_languages\n",
    "\n",
    "def flatten_languages(dataset):\n",
    "    new_dataset = copy.deepcopy(dataset)\n",
    "    if \"language\" in dataset.keys():\n",
    "        languages = flatten_lang(dataset[\"language\"])\n",
    "        for lang in languages:\n",
    "            new_dataset[lang] = True\n",
    "    return new_dataset\n",
    "\n",
    "json_datasets = []\n",
    "i = 0\n",
    "for line in open(data_file, 'r'):\n",
    "    dataset = json.loads(line)\n",
    "    json_datasets.append(flatten_languages(dataset))\n",
    "    i += 1\n",
    "    if i == datasets_to_analyze:\n",
    "        break\n",
    "\n",
    "odp_data = pd.DataFrame(json_datasets)\n",
    "\n",
    "np.random.seed(0)\n",
    "odp_data.sample(2)\n",
    "\n",
    "# How many values are missing ?\n",
    "missing_values_count = odp_data.isnull().sum()\n",
    "\n",
    "print(missing_values_count)"
   ]
  },
  {
   "cell_type": "markdown",
   "metadata": {},
   "source": [
    "# Filtering out German datasets\n",
    "As we can see from the snippet above we can filter out the German datasets by special URL used by German government bodies. This type of filtering results in 184,724 datasets, while the data portal lists 205,851. We further filter remaining datasets by \"www.govdata.de\" string and get additional 35,044 datasets. The whole routine can be run with:\n",
    "```\n",
    "make filter-german-datasets\n",
    "```\n",
    "\n",
    "# Analysis of German datasets\n",
    "We can sample both portions of the German datasets by taking 1000 from each and take a look at the missing values."
   ]
  },
  {
   "cell_type": "code",
   "execution_count": 19,
   "metadata": {},
   "outputs": [],
   "source": [
    "german_data_path_1 = \"data/europeandataportal-ger-1.jsonl\"\n",
    "german_data_path_2 = \"data/europeandataportal-ger-2.jsonl\"\n",
    "\n",
    "def load_json(data_path, lines_to_load):\n",
    "    json_datasets = []\n",
    "    i = 0\n",
    "    for line in open(data_path, 'r'):\n",
    "        dataset = json.loads(line)\n",
    "        json_datasets.append(dataset)\n",
    "        i += 1\n",
    "        if i == lines_to_load:\n",
    "            break\n",
    "    return json_datasets\n",
    "\n",
    "datasets_to_analyze = 1000\n",
    "# german_data_1 is filtered by language URL\n",
    "german_data_1 = pd.DataFrame(load_json(german_data_path_1, datasets_to_analyze))\n",
    "# german_data_2 is filtered by www.govdata.de URL\n",
    "german_data_2 = pd.DataFrame(load_json(german_data_path_2, datasets_to_analyze))"
   ]
  },
  {
   "cell_type": "code",
   "execution_count": 28,
   "metadata": {},
   "outputs": [
    {
     "name": "stdout",
     "output_type": "stream",
     "text": [
      "                           0\n",
      "0              access_rights\n",
      "1        accrual_periodicity\n",
      "2                     author\n",
      "3               author_email\n",
      "4                conforms_to\n",
      "5              contact_point\n",
      "6            creator_user_id\n",
      "7                   dct_type\n",
      "8                     extras\n",
      "9                     groups\n",
      "10               has_version\n",
      "11                        id\n",
      "12                identifier\n",
      "13             is_version_of\n",
      "14                    isopen\n",
      "15                    issued\n",
      "16                  language\n",
      "17                license_id\n",
      "18             license_title\n",
      "19                maintainer\n",
      "20          maintainer_email\n",
      "21          metadata_created\n",
      "22         metadata_modified\n",
      "23                  modified\n",
      "24                      name\n",
      "25                     notes\n",
      "26             num_resources\n",
      "27                  num_tags\n",
      "28              organization\n",
      "29          other_identifier\n",
      "30                 owner_org\n",
      "31                      page\n",
      "32                   private\n",
      "33                provenance\n",
      "34                 publisher\n",
      "35                  relation\n",
      "36   relationships_as_object\n",
      "37  relationships_as_subject\n",
      "38                 resources\n",
      "39               revision_id\n",
      "40                     state\n",
      "41                      tags\n",
      "42                  temporal\n",
      "43                     title\n",
      "44                translated\n",
      "45               translation\n",
      "46          translation_meta\n",
      "47                      type\n",
      "48                       url\n",
      "49                   version\n"
     ]
    }
   ],
   "source": [
    "# Print out available columns\n",
    "print(pd.DataFrame(german_data_1.columns.values))"
   ]
  },
  {
   "cell_type": "code",
   "execution_count": 29,
   "metadata": {},
   "outputs": [
    {
     "name": "stdout",
     "output_type": "stream",
     "text": [
      "                           0\n",
      "0                     author\n",
      "1               author_email\n",
      "2              contact_point\n",
      "3            creator_user_id\n",
      "4                     extras\n",
      "5                     groups\n",
      "6                         id\n",
      "7                 identifier\n",
      "8                     isopen\n",
      "9                 license_id\n",
      "10             license_title\n",
      "11               license_url\n",
      "12                maintainer\n",
      "13          maintainer_email\n",
      "14          metadata_created\n",
      "15         metadata_modified\n",
      "16                  modified\n",
      "17                      name\n",
      "18                     notes\n",
      "19             num_resources\n",
      "20                  num_tags\n",
      "21              organization\n",
      "22           original_source\n",
      "23                 owner_org\n",
      "24                   private\n",
      "25                 publisher\n",
      "26   relationships_as_object\n",
      "27  relationships_as_subject\n",
      "28                 resources\n",
      "29               revision_id\n",
      "30                     state\n",
      "31                      tags\n",
      "32                  temporal\n",
      "33                     title\n",
      "34                translated\n",
      "35               translation\n",
      "36          translation_meta\n",
      "37                      type\n",
      "38                       url\n",
      "39                   version\n"
     ]
    }
   ],
   "source": [
    "# Print out available columns\n",
    "print(pd.DataFrame(german_data_2.columns.values))"
   ]
  },
  {
   "cell_type": "code",
   "execution_count": 35,
   "metadata": {},
   "outputs": [
    {
     "name": "stdout",
     "output_type": "stream",
     "text": [
      "{'has_version', 'dct_type', 'other_identifier', 'provenance', 'accrual_periodicity', 'is_version_of', 'page', 'relation', 'language', 'issued', 'access_rights', 'conforms_to'}\n"
     ]
    }
   ],
   "source": [
    "# Print the columns in german_data_1 which are not in german_data_2\n",
    "print(set(german_data_1.columns.values) - set(german_data_2.columns.values))"
   ]
  },
  {
   "cell_type": "code",
   "execution_count": 36,
   "metadata": {},
   "outputs": [
    {
     "name": "stdout",
     "output_type": "stream",
     "text": [
      "{'license_url', 'original_source'}\n"
     ]
    }
   ],
   "source": [
    "# Print the columns in german_data_2 which are not in german_data_1\n",
    "print(set(german_data_2.columns.values) - set(german_data_1.columns.values))"
   ]
  },
  {
   "cell_type": "code",
   "execution_count": 42,
   "metadata": {},
   "outputs": [
    {
     "name": "stdout",
     "output_type": "stream",
     "text": [
      "                           0\n",
      "0                     author\n",
      "1               author_email\n",
      "2              contact_point\n",
      "3            creator_user_id\n",
      "4                     extras\n",
      "5                     groups\n",
      "6                         id\n",
      "7                 identifier\n",
      "8                     isopen\n",
      "9                 license_id\n",
      "10             license_title\n",
      "11                maintainer\n",
      "12          maintainer_email\n",
      "13          metadata_created\n",
      "14         metadata_modified\n",
      "15                  modified\n",
      "16                      name\n",
      "17                     notes\n",
      "18             num_resources\n",
      "19                  num_tags\n",
      "20              organization\n",
      "21                 owner_org\n",
      "22                   private\n",
      "23                 publisher\n",
      "24   relationships_as_object\n",
      "25  relationships_as_subject\n",
      "26                 resources\n",
      "27               revision_id\n",
      "28                     state\n",
      "29                      tags\n",
      "30                  temporal\n",
      "31                     title\n",
      "32                translated\n",
      "33               translation\n",
      "34          translation_meta\n",
      "35                      type\n",
      "36                       url\n",
      "37                   version\n"
     ]
    }
   ],
   "source": [
    "# Print common columns\n",
    "common_columns = set(german_data_2.columns.values).intersection(set(german_data_1.columns.values))\n",
    "common_columns = list(intersection)\n",
    "common_columns.sort()\n",
    "print(pd.DataFrame(common_columns))"
   ]
  },
  {
   "cell_type": "code",
   "execution_count": 46,
   "metadata": {},
   "outputs": [
    {
     "name": "stdout",
     "output_type": "stream",
     "text": [
      "access_rights                597\n",
      "accrual_periodicity          254\n",
      "author                      1000\n",
      "author_email                1000\n",
      "conforms_to                  922\n",
      "contact_point                254\n",
      "creator_user_id                0\n",
      "dct_type                     403\n",
      "extras                         0\n",
      "groups                         0\n",
      "has_version                  597\n",
      "id                             0\n",
      "identifier                     0\n",
      "is_version_of                597\n",
      "isopen                         0\n",
      "issued                       272\n",
      "language                       0\n",
      "license_id                  1000\n",
      "license_title               1000\n",
      "maintainer                  1000\n",
      "maintainer_email            1000\n",
      "metadata_created               0\n",
      "metadata_modified              0\n",
      "modified                     155\n",
      "name                           0\n",
      "notes                          0\n",
      "num_resources                  0\n",
      "num_tags                       0\n",
      "organization                   0\n",
      "other_identifier             597\n",
      "owner_org                      0\n",
      "page                         128\n",
      "private                        0\n",
      "provenance                    16\n",
      "publisher                    721\n",
      "relation                     597\n",
      "relationships_as_object        0\n",
      "relationships_as_subject       0\n",
      "resources                      0\n",
      "revision_id                    0\n",
      "state                          0\n",
      "tags                           0\n",
      "temporal                     844\n",
      "title                          0\n",
      "translated                   195\n",
      "translation                    0\n",
      "translation_meta               0\n",
      "type                           0\n",
      "url                          412\n",
      "version                     1000\n",
      "dtype: int64\n"
     ]
    }
   ],
   "source": [
    "# How many values are missing ?\n",
    "missing_values_count_1 = german_data_1.isnull().sum()\n",
    "\n",
    "print(missing_values_count_1)"
   ]
  },
  {
   "cell_type": "code",
   "execution_count": 45,
   "metadata": {},
   "outputs": [
    {
     "name": "stdout",
     "output_type": "stream",
     "text": [
      "author                      1000\n",
      "author_email                1000\n",
      "contact_point                 21\n",
      "creator_user_id                0\n",
      "extras                         0\n",
      "groups                         0\n",
      "id                             0\n",
      "identifier                     0\n",
      "isopen                         0\n",
      "license_id                     0\n",
      "license_title                  0\n",
      "license_url                  596\n",
      "maintainer                  1000\n",
      "maintainer_email            1000\n",
      "metadata_created               0\n",
      "metadata_modified              0\n",
      "modified                     466\n",
      "name                           0\n",
      "notes                          0\n",
      "num_resources                  0\n",
      "num_tags                       0\n",
      "organization                   0\n",
      "original_source                0\n",
      "owner_org                      0\n",
      "private                        0\n",
      "publisher                    682\n",
      "relationships_as_object        0\n",
      "relationships_as_subject       0\n",
      "resources                      0\n",
      "revision_id                    0\n",
      "state                          0\n",
      "tags                           0\n",
      "temporal                     866\n",
      "title                          0\n",
      "translated                    92\n",
      "translation                   52\n",
      "translation_meta               0\n",
      "type                           0\n",
      "url                            4\n",
      "version                     1000\n",
      "dtype: int64\n"
     ]
    }
   ],
   "source": [
    "# How many values are missing ?\n",
    "missing_values_count_2 = german_data_2.isnull().sum()\n",
    "\n",
    "print(missing_values_count_2)"
   ]
  },
  {
   "cell_type": "code",
   "execution_count": 49,
   "metadata": {},
   "outputs": [
    {
     "name": "stdout",
     "output_type": "stream",
     "text": [
      "Percentage of missing values in cells for ger-1\n",
      "29.121999999999996\n",
      "Percentage of missing values in cells for ger-2\n",
      "19.4475\n"
     ]
    }
   ],
   "source": [
    "total_cells_1 = np.product(german_data_1.shape)\n",
    "total_missing_1 = missing_values_count_1.sum()\n",
    "\n",
    "# percent of data that is missing\n",
    "print(\"Percentage of missing values in cells for ger-1\")\n",
    "print((total_missing_1/total_cells_1) * 100)\n",
    "\n",
    "total_cells_2 = np.product(german_data_2.shape)\n",
    "total_missing_2 = missing_values_count_2.sum()\n",
    "\n",
    "# percent of data that is missing\n",
    "print(\"Percentage of missing values in cells for ger-2\")\n",
    "print((total_missing_2/total_cells_2) * 100)"
   ]
  },
  {
   "cell_type": "code",
   "execution_count": null,
   "metadata": {},
   "outputs": [],
   "source": []
  }
 ],
 "metadata": {
  "kernelspec": {
   "display_name": "Python 3",
   "language": "python",
   "name": "python3"
  },
  "language_info": {
   "codemirror_mode": {
    "name": "ipython",
    "version": 3
   },
   "file_extension": ".py",
   "mimetype": "text/x-python",
   "name": "python",
   "nbconvert_exporter": "python",
   "pygments_lexer": "ipython3",
   "version": "3.6.4"
  }
 },
 "nbformat": 4,
 "nbformat_minor": 2
}
